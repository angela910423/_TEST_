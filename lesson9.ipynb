{
 "cells": [
  {
   "cell_type": "code",
   "execution_count": 17,
   "metadata": {},
   "outputs": [
    {
     "name": "stdout",
     "output_type": "stream",
     "text": [
      "[100, 20]\n",
      "[100, 20, 30]\n",
      "[40, 50, 60]\n",
      "[100, 20, 30, 40, 50]\n"
     ]
    }
   ],
   "source": [
    "list1=[10,20,30,40,50,60]\n",
    "list1[0:1] #取出一個元素\n",
    "list1[0]=100\n",
    "list1[0:2] #取出多個元素,2是不包含\n",
    "print(list1[0:2])\n",
    "print(list1[0:3])\n",
    "print(list1[-3:])\n",
    "print(list1[:5])"
   ]
  },
  {
   "cell_type": "code",
   "execution_count": 21,
   "metadata": {},
   "outputs": [
    {
     "name": "stdout",
     "output_type": "stream",
     "text": [
      "[1, 2, 3, 4, 5, 10, 20, 30, 40, 50]\n",
      "[1, 2, 3, 4, 5, 1, 2, 3, 4, 5, 1, 2, 3, 4, 5]\n"
     ]
    }
   ],
   "source": [
    "list2=[1,2,3,4,5]\n",
    "list3=[10,20,30,40,50]\n",
    "print(list2+list3) #無法做陣列運算\n",
    "print(list2*3)"
   ]
  }
 ],
 "metadata": {
  "kernelspec": {
   "display_name": "Python 3",
   "language": "python",
   "name": "python3"
  },
  "language_info": {
   "codemirror_mode": {
    "name": "ipython",
    "version": 3
   },
   "file_extension": ".py",
   "mimetype": "text/x-python",
   "name": "python",
   "nbconvert_exporter": "python",
   "pygments_lexer": "ipython3",
   "version": "3.12.3"
  }
 },
 "nbformat": 4,
 "nbformat_minor": 2
}
